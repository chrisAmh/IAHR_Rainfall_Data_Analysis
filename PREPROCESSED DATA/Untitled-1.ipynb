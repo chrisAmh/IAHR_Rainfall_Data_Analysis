{
 "cells": [
  {
   "cell_type": "code",
   "execution_count": 1,
   "metadata": {},
   "outputs": [
    {
     "name": "stdout",
     "output_type": "stream",
     "text": [
      "        Date Product code  Bureau of Meteorology station number  Year  Month  \\\n",
      "0 1992-01-01   IDCJAC0010                                 14015  1992      1   \n",
      "1 1992-01-02   IDCJAC0010                                 14015  1992      1   \n",
      "2 1992-01-03   IDCJAC0010                                 14015  1992      1   \n",
      "3 1992-01-04   IDCJAC0010                                 14015  1992      1   \n",
      "4 1992-01-05   IDCJAC0010                                 14015  1992      1   \n",
      "\n",
      "   Day  Maximum temperature (Degree C)  \\\n",
      "0    1                            33.1   \n",
      "1    2                            32.6   \n",
      "2    3                            32.0   \n",
      "3    4                            32.4   \n",
      "4    5                            31.6   \n",
      "\n",
      "   Days of accumulation of maximum temperature Quality  \\\n",
      "0                                          1.0       Y   \n",
      "1                                          1.0       Y   \n",
      "2                                          1.0       Y   \n",
      "3                                          1.0       Y   \n",
      "4                                          1.0       Y   \n",
      "\n",
      "   Minimum temperature (Degree C)  \\\n",
      "0                             NaN   \n",
      "1                             NaN   \n",
      "2                             NaN   \n",
      "3                             NaN   \n",
      "4                             NaN   \n",
      "\n",
      "   Days of accumulation of minimum temperature  \\\n",
      "0                                          NaN   \n",
      "1                                          NaN   \n",
      "2                                          NaN   \n",
      "3                                          NaN   \n",
      "4                                          NaN   \n",
      "\n",
      "   Daily global solar exposure (MJ/m*m)  \n",
      "0                                   NaN  \n",
      "1                                   NaN  \n",
      "2                                   NaN  \n",
      "3                                   NaN  \n",
      "4                                   NaN  \n"
     ]
    }
   ],
   "source": [
    "import pandas as pd\n",
    "\n",
    "# Load data from the uploaded files\n",
    "file_paths = [\n",
    "    'IDCJAC0010_014015_1800_Data.csv',\n",
    "    'IDCJAC0011_014015_1800_Data.csv',\n",
    "    'IDCJAC0016_014266_1800_Data.csv'\n",
    "]\n",
    "\n",
    "# Define the date range\n",
    "start_date = '1992-01-01'\n",
    "end_date = '2024-03-20'\n",
    "\n",
    "# Function to load, preprocess each file, and fill missing values\n",
    "def load_and_preprocess(file_path):\n",
    "    # Load the data\n",
    "    data = pd.read_csv(file_path)\n",
    "    \n",
    "    # Combine 'Year', 'Month', and 'Day' into a single 'Date' column\n",
    "    data['Date'] = pd.to_datetime(data[['Year', 'Month', 'Day']])\n",
    "    \n",
    "    # Set 'Date' as the index\n",
    "    data.set_index('Date', inplace=True)\n",
    "    \n",
    "    # Trim the data to the specified date range\n",
    "    data = data.loc[start_date:end_date]\n",
    "    \n",
    "    # Fill missing values - example using forward fill method\n",
    "    # data.fillna(data.mean(), inplace=True) # You can change the method as needed\n",
    "    \n",
    "    return data\n",
    "\n",
    "# Load and preprocess each file\n",
    "data_frames = [load_and_preprocess(file_path) for file_path in file_paths]\n",
    "\n",
    "# Concatenate all DataFrames into one\n",
    "combined_data = pd.concat(data_frames)\n",
    "\n",
    "# Reset index to make 'Date' a column again\n",
    "combined_data.reset_index(inplace=True)\n",
    "\n",
    "# Display the first few rows of the combined DataFrame\n",
    "print(combined_data.head())\n",
    "\n",
    "# Save the combined DataFrame to a new CSV file\n",
    "combined_data.to_csv('combined_trimmed_filled_data.csv', index=False)\n"
   ]
  },
  {
   "cell_type": "code",
   "execution_count": 1,
   "metadata": {},
   "outputs": [],
   "source": [
    "import pandas as pd \n"
   ]
  }
 ],
 "metadata": {
  "kernelspec": {
   "display_name": "tf",
   "language": "python",
   "name": "python3"
  },
  "language_info": {
   "codemirror_mode": {
    "name": "ipython",
    "version": 3
   },
   "file_extension": ".py",
   "mimetype": "text/x-python",
   "name": "python",
   "nbconvert_exporter": "python",
   "pygments_lexer": "ipython3",
   "version": "3.9.undefined"
  }
 },
 "nbformat": 4,
 "nbformat_minor": 2
}
